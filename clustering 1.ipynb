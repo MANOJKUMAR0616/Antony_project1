{
 "cells": [
  {
   "cell_type": "code",
   "execution_count": 6,
   "id": "e7639233",
   "metadata": {},
   "outputs": [
    {
     "name": "stdout",
     "output_type": "stream",
     "text": [
      "     Name  Age  Income\n",
      "0  Daniel   38    3435\n",
      "1    Emma   50    1600\n",
      "2  Olivia   29    3363\n",
      "3   David   39    3061\n",
      "4  Daniel   61    1241\n"
     ]
    }
   ],
   "source": [
    "import numpy as np\n",
    "import pandas as pd\n",
    "\n",
    "# Set the random seed for reproducibility\n",
    "np.random.seed(42)\n",
    "\n",
    "# Define the number of data points in the dataset\n",
    "num_data_points = 20\n",
    "\n",
    "# Generate random names\n",
    "names = ['John', 'Jane', 'Michael', 'Emma', 'David', 'Sophia', 'Daniel', 'Olivia', 'Matthew', 'Emily']\n",
    "random_names = np.random.choice(names, size=num_data_points)\n",
    "\n",
    "# Generate random ages between 18 and 65\n",
    "random_ages = np.random.randint(low=18, high=66, size=num_data_points)\n",
    "\n",
    "# Generate random incomes between 1000 and 5000\n",
    "random_incomes = np.random.randint(low=1000, high=5001, size=num_data_points)\n",
    "\n",
    "# Create the DataFrame\n",
    "data = pd.DataFrame({'Name': random_names, 'Age': random_ages, 'Income': random_incomes})\n",
    "\n",
    "# Display the generated dataset\n",
    "print(data.head())\n"
   ]
  },
  {
   "cell_type": "code",
   "execution_count": 7,
   "id": "830ba0f4",
   "metadata": {},
   "outputs": [
    {
     "data": {
      "text/plain": [
       "(20, 3)"
      ]
     },
     "execution_count": 7,
     "metadata": {},
     "output_type": "execute_result"
    }
   ],
   "source": [
    "data.shape"
   ]
  },
  {
   "cell_type": "code",
   "execution_count": 8,
   "id": "e6651220",
   "metadata": {},
   "outputs": [],
   "source": [
    "import pandas as pd\n",
    "from matplotlib import pyplot as plt\n",
    "from sklearn.cluster import KMeans\n",
    "from sklearn.preprocessing import MinMaxScaler"
   ]
  },
  {
   "cell_type": "code",
   "execution_count": 9,
   "id": "169a4c61",
   "metadata": {},
   "outputs": [
    {
     "data": {
      "text/plain": [
       "<matplotlib.collections.PathCollection at 0x2634536b50>"
      ]
     },
     "execution_count": 9,
     "metadata": {},
     "output_type": "execute_result"
    },
    {
     "data": {
      "image/png": "[encoded data removed]",
      "text/plain": [
       "<Figure size 640x480 with 1 Axes>"
      ]
     },
     "metadata": {},
     "output_type": "display_data"
    }
   ],
   "source": [
    "plt.scatter(data['Age'],data['Income'])"
   ]
  },
  {
   "cell_type": "code",
   "execution_count": 30,
   "id": "5cb827ed",
   "metadata": {},
   "outputs": [
    {
     "name": "stderr",
     "output_type": "stream",
     "text": [
      "C:\\Users\\USER\\anaconda3\\lib\\site-packages\\sklearn\\base.py:450: UserWarning: X does not have valid feature names, but MinMaxScaler was fitted with feature names\n",
      "  warnings.warn(\n",
      "C:\\Users\\USER\\anaconda3\\lib\\site-packages\\sklearn\\base.py:450: UserWarning: X does not have valid feature names, but MinMaxScaler was fitted with feature names\n",
      "  warnings.warn(\n"
     ]
    },
    {
     "data": {
      "text/html": [
       "<div>\n",
       "<style scoped>\n",
       "    .dataframe tbody tr th:only-of-type {\n",
       "        vertical-align: middle;\n",
       "    }\n",
       "\n",
       "    .dataframe tbody tr th {\n",
       "        vertical-align: top;\n",
       "    }\n",
       "\n",
       "    .dataframe thead th {\n",
       "        text-align: right;\n",
       "    }\n",
       "</style>\n",
       "<table border=\"1\" class=\"dataframe\">\n",
       "  <thead>\n",
       "    <tr style=\"text-align: right;\">\n",
       "      <th></th>\n",
       "      <th>Name</th>\n",
       "      <th>Age</th>\n",
       "      <th>Income</th>\n",
       "      <th>cluster</th>\n",
       "    </tr>\n",
       "  </thead>\n",
       "  <tbody>\n",
       "    <tr>\n",
       "      <th>0</th>\n",
       "      <td>Daniel</td>\n",
       "      <td>0.409091</td>\n",
       "      <td>0.692929</td>\n",
       "      <td>0</td>\n",
       "    </tr>\n",
       "    <tr>\n",
       "      <th>1</th>\n",
       "      <td>Emma</td>\n",
       "      <td>0.681818</td>\n",
       "      <td>0.163348</td>\n",
       "      <td>1</td>\n",
       "    </tr>\n",
       "    <tr>\n",
       "      <th>2</th>\n",
       "      <td>Olivia</td>\n",
       "      <td>0.204545</td>\n",
       "      <td>0.672150</td>\n",
       "      <td>0</td>\n",
       "    </tr>\n",
       "    <tr>\n",
       "      <th>3</th>\n",
       "      <td>David</td>\n",
       "      <td>0.431818</td>\n",
       "      <td>0.584993</td>\n",
       "      <td>2</td>\n",
       "    </tr>\n",
       "    <tr>\n",
       "      <th>4</th>\n",
       "      <td>Daniel</td>\n",
       "      <td>0.931818</td>\n",
       "      <td>0.059740</td>\n",
       "      <td>1</td>\n",
       "    </tr>\n",
       "    <tr>\n",
       "      <th>5</th>\n",
       "      <td>Emily</td>\n",
       "      <td>0.500000</td>\n",
       "      <td>0.579221</td>\n",
       "      <td>2</td>\n",
       "    </tr>\n",
       "    <tr>\n",
       "      <th>6</th>\n",
       "      <td>Michael</td>\n",
       "      <td>0.545455</td>\n",
       "      <td>0.805195</td>\n",
       "      <td>0</td>\n",
       "    </tr>\n",
       "    <tr>\n",
       "      <th>7</th>\n",
       "      <td>Daniel</td>\n",
       "      <td>0.886364</td>\n",
       "      <td>0.976335</td>\n",
       "      <td>0</td>\n",
       "    </tr>\n",
       "    <tr>\n",
       "      <th>8</th>\n",
       "      <td>Olivia</td>\n",
       "      <td>0.568182</td>\n",
       "      <td>0.744012</td>\n",
       "      <td>0</td>\n",
       "    </tr>\n",
       "    <tr>\n",
       "      <th>9</th>\n",
       "      <td>David</td>\n",
       "      <td>0.295455</td>\n",
       "      <td>0.840115</td>\n",
       "      <td>0</td>\n",
       "    </tr>\n",
       "    <tr>\n",
       "      <th>10</th>\n",
       "      <td>Emma</td>\n",
       "      <td>0.272727</td>\n",
       "      <td>0.383550</td>\n",
       "      <td>2</td>\n",
       "    </tr>\n",
       "    <tr>\n",
       "      <th>11</th>\n",
       "      <td>Olivia</td>\n",
       "      <td>1.000000</td>\n",
       "      <td>0.607504</td>\n",
       "      <td>2</td>\n",
       "    </tr>\n",
       "    <tr>\n",
       "      <th>12</th>\n",
       "      <td>Olivia</td>\n",
       "      <td>0.931818</td>\n",
       "      <td>0.391342</td>\n",
       "      <td>2</td>\n",
       "    </tr>\n",
       "    <tr>\n",
       "      <th>13</th>\n",
       "      <td>Michael</td>\n",
       "      <td>0.000000</td>\n",
       "      <td>0.856854</td>\n",
       "      <td>0</td>\n",
       "    </tr>\n",
       "    <tr>\n",
       "      <th>14</th>\n",
       "      <td>Sophia</td>\n",
       "      <td>0.772727</td>\n",
       "      <td>0.416739</td>\n",
       "      <td>2</td>\n",
       "    </tr>\n",
       "    <tr>\n",
       "      <th>15</th>\n",
       "      <td>David</td>\n",
       "      <td>0.090909</td>\n",
       "      <td>1.000000</td>\n",
       "      <td>0</td>\n",
       "    </tr>\n",
       "    <tr>\n",
       "      <th>16</th>\n",
       "      <td>Jane</td>\n",
       "      <td>0.409091</td>\n",
       "      <td>0.727850</td>\n",
       "      <td>0</td>\n",
       "    </tr>\n",
       "    <tr>\n",
       "      <th>17</th>\n",
       "      <td>Olivia</td>\n",
       "      <td>0.136364</td>\n",
       "      <td>0.213853</td>\n",
       "      <td>1</td>\n",
       "    </tr>\n",
       "    <tr>\n",
       "      <th>18</th>\n",
       "      <td>Sophia</td>\n",
       "      <td>0.818182</td>\n",
       "      <td>0.000000</td>\n",
       "      <td>1</td>\n",
       "    </tr>\n",
       "    <tr>\n",
       "      <th>19</th>\n",
       "      <td>Jane</td>\n",
       "      <td>0.340909</td>\n",
       "      <td>0.640404</td>\n",
       "      <td>2</td>\n",
       "    </tr>\n",
       "  </tbody>\n",
       "</table>\n",
       "</div>"
      ],
      "text/plain": [
       "       Name       Age    Income  cluster\n",
       "0    Daniel  0.409091  0.692929        0\n",
       "1      Emma  0.681818  0.163348        1\n",
       "2    Olivia  0.204545  0.672150        0\n",
       "3     David  0.431818  0.584993        2\n",
       "4    Daniel  0.931818  0.059740        1\n",
       "5     Emily  0.500000  0.579221        2\n",
       "6   Michael  0.545455  0.805195        0\n",
       "7    Daniel  0.886364  0.976335        0\n",
       "8    Olivia  0.568182  0.744012        0\n",
       "9     David  0.295455  0.840115        0\n",
       "10     Emma  0.272727  0.383550        2\n",
       "11   Olivia  1.000000  0.607504        2\n",
       "12   Olivia  0.931818  0.391342        2\n",
       "13  Michael  0.000000  0.856854        0\n",
       "14   Sophia  0.772727  0.416739        2\n",
       "15    David  0.090909  1.000000        0\n",
       "16     Jane  0.409091  0.727850        0\n",
       "17   Olivia  0.136364  0.213853        1\n",
       "18   Sophia  0.818182  0.000000        1\n",
       "19     Jane  0.340909  0.640404        2"
      ]
     },
     "execution_count": 30,
     "metadata": {},
     "output_type": "execute_result"
    }
   ],
   "source": [
    "scaler = MinMaxScaler()\n",
    "scaler.fit(data[['Income']])\n",
    "data['Income']=scaler.transform(data['Income'].values.reshape(-1,1))\n",
    "scaler.fit(data[['Age']])\n",
    "data['Age']=scaler.transform(data['Age'].values.reshape(-1,1))\n",
    "data"
   ]
  },
  {
   "cell_type": "code",
   "execution_count": 49,
   "id": "90ca3902",
   "metadata": {},
   "outputs": [
    {
     "data": {
      "text/plain": [
       "array([0, 2, 0, 0, 2, 0, 0, 1, 0, 0, 0, 1, 1, 0, 1, 0, 0, 0, 2, 0])"
      ]
     },
     "execution_count": 49,
     "metadata": {},
     "output_type": "execute_result"
    }
   ],
   "source": [
    "km=KMeans(n_clusters=3)\n",
    "y=km.fit_predict(data[['Age','Income']])\n",
    "y"
   ]
  },
  {
   "cell_type": "code",
   "execution_count": 47,
   "id": "c7e9e294",
   "metadata": {},
   "outputs": [
    {
     "data": {
      "text/html": [
       "<div>\n",
       "<style scoped>\n",
       "    .dataframe tbody tr th:only-of-type {\n",
       "        vertical-align: middle;\n",
       "    }\n",
       "\n",
       "    .dataframe tbody tr th {\n",
       "        vertical-align: top;\n",
       "    }\n",
       "\n",
       "    .dataframe thead th {\n",
       "        text-align: right;\n",
       "    }\n",
       "</style>\n",
       "<table border=\"1\" class=\"dataframe\">\n",
       "  <thead>\n",
       "    <tr style=\"text-align: right;\">\n",
       "      <th></th>\n",
       "      <th>Name</th>\n",
       "      <th>Age</th>\n",
       "      <th>Income</th>\n",
       "      <th>cluster</th>\n",
       "    </tr>\n",
       "  </thead>\n",
       "  <tbody>\n",
       "    <tr>\n",
       "      <th>0</th>\n",
       "      <td>Daniel</td>\n",
       "      <td>0.409091</td>\n",
       "      <td>0.692929</td>\n",
       "      <td>0</td>\n",
       "    </tr>\n",
       "    <tr>\n",
       "      <th>1</th>\n",
       "      <td>Emma</td>\n",
       "      <td>0.681818</td>\n",
       "      <td>0.163348</td>\n",
       "      <td>1</td>\n",
       "    </tr>\n",
       "    <tr>\n",
       "      <th>2</th>\n",
       "      <td>Olivia</td>\n",
       "      <td>0.204545</td>\n",
       "      <td>0.672150</td>\n",
       "      <td>0</td>\n",
       "    </tr>\n",
       "    <tr>\n",
       "      <th>3</th>\n",
       "      <td>David</td>\n",
       "      <td>0.431818</td>\n",
       "      <td>0.584993</td>\n",
       "      <td>0</td>\n",
       "    </tr>\n",
       "    <tr>\n",
       "      <th>4</th>\n",
       "      <td>Daniel</td>\n",
       "      <td>0.931818</td>\n",
       "      <td>0.059740</td>\n",
       "      <td>1</td>\n",
       "    </tr>\n",
       "  </tbody>\n",
       "</table>\n",
       "</div>"
      ],
      "text/plain": [
       "     Name       Age    Income  cluster\n",
       "0  Daniel  0.409091  0.692929        0\n",
       "1    Emma  0.681818  0.163348        1\n",
       "2  Olivia  0.204545  0.672150        0\n",
       "3   David  0.431818  0.584993        0\n",
       "4  Daniel  0.931818  0.059740        1"
      ]
     },
     "execution_count": 47,
     "metadata": {},
     "output_type": "execute_result"
    }
   ],
   "source": [
    "data['cluster']=y\n",
    "data.head()"
   ]
  },
  {
   "cell_type": "code",
   "execution_count": 48,
   "id": "1f45f141",
   "metadata": {},
   "outputs": [
    {
     "data": {
      "text/plain": [
       "Text(0, 0.5, 'Income')"
      ]
     },
     "execution_count": 48,
     "metadata": {},
     "output_type": "execute_result"
    },
    {
     "data": {
      "image/png": "[encoded data removed]",
      "text/plain": [
       "<Figure size 640x480 with 1 Axes>"
      ]
     },
     "metadata": {},
     "output_type": "display_data"
    }
   ],
   "source": [
    "df1=data[data.cluster==0]\n",
    "df2=data[data.cluster==1]\n",
    "df3=data[data.cluster==2]\n",
    "plt.scatter(df1['Age'],df1['Income'],color='red',label='cluster 0')\n",
    "plt.scatter(df2['Age'],df2['Income'],color='green',label='cluster 1')\n",
    "plt.scatter(df3['Age'],df3['Income'],color='blue',label='cluster 2')\n",
    "plt.xlabel('age')\n",
    "plt.ylabel('Income')"
   ]
  },
  {
   "cell_type": "code",
   "execution_count": 50,
   "id": "07adcef7",
   "metadata": {},
   "outputs": [
    {
     "data": {
      "text/plain": [
       "array([[0.32342657, 0.67239427],\n",
       "       [0.89772727, 0.5979798 ],\n",
       "       [0.81060606, 0.07436267]])"
      ]
     },
     "execution_count": 50,
     "metadata": {},
     "output_type": "execute_result"
    }
   ],
   "source": [
    "km.cluster_centers_"
   ]
  },
  {
   "cell_type": "code",
   "execution_count": 52,
   "id": "9078a82e",
   "metadata": {},
   "outputs": [
    {
     "data": {
      "text/plain": [
       "Text(0, 0.5, 'Income')"
      ]
     },
     "execution_count": 52,
     "metadata": {},
     "output_type": "execute_result"
    },
    {
     "data": {
      "image/png": "[encoded data removed]",
      "text/plain": [
       "<Figure size 640x480 with 1 Axes>"
      ]
     },
     "metadata": {},
     "output_type": "display_data"
    }
   ],
   "source": [
    "df1=data[data.cluster==0]\n",
    "df2=data[data.cluster==1]\n",
    "df3=data[data.cluster==2]\n",
    "plt.scatter(df1['Age'],df1['Income'],color='red',label='cluster 0')\n",
    "plt.scatter(df2['Age'],df2['Income'],color='green',label='cluster 1')\n",
    "plt.scatter(df3['Age'],df3['Income'],color='blue',label='cluster 2')\n",
    "plt.scatter(km.cluster_centers_[:,0],km.cluster_centers_[:,1],color='purple',marker='*')\n",
    "plt.xlabel('age')\n",
    "plt.ylabel('Income')"
   ]
  },
  {
   "cell_type": "code",
   "execution_count": 54,
   "id": "3dae1d70",
   "metadata": {},
   "outputs": [
    {
     "name": "stderr",
     "output_type": "stream",
     "text": [
      "C:\\Users\\USER\\anaconda3\\lib\\site-packages\\sklearn\\cluster\\_kmeans.py:1036: UserWarning: KMeans is known to have a memory leak on Windows with MKL, when there are less chunks than available threads. You can avoid it by setting the environment variable OMP_NUM_THREADS=1.\n",
      "  warnings.warn(\n"
     ]
    }
   ],
   "source": [
    "kv = range(1,10)\n",
    "ssc=[]\n",
    "for k in kv:\n",
    "    km = KMeans(n_clusters=k)\n",
    "    km.fit(data[['Age','Income']])\n",
    "    ssc.append(km.inertia_)"
   ]
  },
  {
   "cell_type": "code",
   "execution_count": 55,
   "id": "7a732d00",
   "metadata": {},
   "outputs": [
    {
     "data": {
      "text/plain": [
       "[3.3774153522443564,\n",
       " 1.6146077461404196,\n",
       " 1.1762014471285753,\n",
       " 0.7975174145772992,\n",
       " 0.4764749959321697,\n",
       " 0.31163903045731534,\n",
       " 0.23658766251118343,\n",
       " 0.19444058099721884,\n",
       " 0.15193432885857128]"
      ]
     },
     "execution_count": 55,
     "metadata": {},
     "output_type": "execute_result"
    }
   ],
   "source": [
    "ssc"
   ]
  },
  {
   "cell_type": "code",
   "execution_count": 56,
   "id": "d876a3fb",
   "metadata": {},
   "outputs": [
    {
     "data": {
      "text/plain": [
       "[<matplotlib.lines.Line2D at 0x2636c3b2e0>]"
      ]
     },
     "execution_count": 56,
     "metadata": {},
     "output_type": "execute_result"
    },
    {
     "data": {
      "image/png": "[encoded data removed]",
      "text/plain": [
       "<Figure size 640x480 with 1 Axes>"
      ]
     },
     "metadata": {},
     "output_type": "display_data"
    }
   ],
   "source": [
    "plt.plot(kv,ssc)"
   ]
  },
  {
   "cell_type": "code",
   "execution_count": 60,
   "id": "4e98f835",
   "metadata": {},
   "outputs": [
    {
     "data": {
      "text/plain": [
       "array([1, 0, 1, 1, 0, 1, 1, 2, 1, 1, 4, 2, 0, 3, 0, 3, 1, 4, 0, 1])"
      ]
     },
     "execution_count": 60,
     "metadata": {},
     "output_type": "execute_result"
    }
   ],
   "source": [
    "km=KMeans(n_clusters = 5)\n",
    "y_pred=km.fit_predict(data[['Age','Income']])\n",
    "y_pred"
   ]
  },
  {
   "cell_type": "code",
   "execution_count": 61,
   "id": "8ce9a086",
   "metadata": {},
   "outputs": [
    {
     "data": {
      "text/html": [
       "<div>\n",
       "<style scoped>\n",
       "    .dataframe tbody tr th:only-of-type {\n",
       "        vertical-align: middle;\n",
       "    }\n",
       "\n",
       "    .dataframe tbody tr th {\n",
       "        vertical-align: top;\n",
       "    }\n",
       "\n",
       "    .dataframe thead th {\n",
       "        text-align: right;\n",
       "    }\n",
       "</style>\n",
       "<table border=\"1\" class=\"dataframe\">\n",
       "  <thead>\n",
       "    <tr style=\"text-align: right;\">\n",
       "      <th></th>\n",
       "      <th>Name</th>\n",
       "      <th>Age</th>\n",
       "      <th>Income</th>\n",
       "      <th>cluster</th>\n",
       "    </tr>\n",
       "  </thead>\n",
       "  <tbody>\n",
       "    <tr>\n",
       "      <th>0</th>\n",
       "      <td>Daniel</td>\n",
       "      <td>0.409091</td>\n",
       "      <td>0.692929</td>\n",
       "      <td>1</td>\n",
       "    </tr>\n",
       "    <tr>\n",
       "      <th>1</th>\n",
       "      <td>Emma</td>\n",
       "      <td>0.681818</td>\n",
       "      <td>0.163348</td>\n",
       "      <td>0</td>\n",
       "    </tr>\n",
       "    <tr>\n",
       "      <th>2</th>\n",
       "      <td>Olivia</td>\n",
       "      <td>0.204545</td>\n",
       "      <td>0.672150</td>\n",
       "      <td>1</td>\n",
       "    </tr>\n",
       "    <tr>\n",
       "      <th>3</th>\n",
       "      <td>David</td>\n",
       "      <td>0.431818</td>\n",
       "      <td>0.584993</td>\n",
       "      <td>1</td>\n",
       "    </tr>\n",
       "    <tr>\n",
       "      <th>4</th>\n",
       "      <td>Daniel</td>\n",
       "      <td>0.931818</td>\n",
       "      <td>0.059740</td>\n",
       "      <td>0</td>\n",
       "    </tr>\n",
       "  </tbody>\n",
       "</table>\n",
       "</div>"
      ],
      "text/plain": [
       "     Name       Age    Income  cluster\n",
       "0  Daniel  0.409091  0.692929        1\n",
       "1    Emma  0.681818  0.163348        0\n",
       "2  Olivia  0.204545  0.672150        1\n",
       "3   David  0.431818  0.584993        1\n",
       "4  Daniel  0.931818  0.059740        0"
      ]
     },
     "execution_count": 61,
     "metadata": {},
     "output_type": "execute_result"
    }
   ],
   "source": [
    "data['cluster']=y_pred\n",
    "data.head()"
   ]
  },
  {
   "cell_type": "code",
   "execution_count": 63,
   "id": "b320be06",
   "metadata": {},
   "outputs": [
    {
     "data": {
      "text/plain": [
       "Text(0, 0.5, 'Income')"
      ]
     },
     "execution_count": 63,
     "metadata": {},
     "output_type": "execute_result"
    },
    {
     "data": {
      "image/png": "[encoded data removed]",
      "text/plain": [
       "<Figure size 640x480 with 1 Axes>"
      ]
     },
     "metadata": {},
     "output_type": "display_data"
    }
   ],
   "source": [
    "df1=data[data.cluster==0]\n",
    "df2=data[data.cluster==1]\n",
    "df3=data[data.cluster==2]\n",
    "df4=data[data['cluster']==3]\n",
    "df5=data[data['cluster']==4]\n",
    "plt.scatter(df1['Age'],df1['Income'],color='red',label='cluster 0')\n",
    "plt.scatter(df2['Age'],df2['Income'],color='green',label='cluster 1')\n",
    "plt.scatter(df3['Age'],df3['Income'],color='blue',label='cluster 2')\n",
    "plt.scatter(df4['Age'],df4['Income'],color='black',label='cluster 3')\n",
    "plt.scatter(df5['Age'],df5['Income'],color='yellow',label='cluster 4')\n",
    "plt.xlabel('age')\n",
    "plt.ylabel('Income')"
   ]
  },
  {
   "cell_type": "code",
   "execution_count": 64,
   "id": "ab8815f0",
   "metadata": {},
   "outputs": [
    {
     "data": {
      "text/plain": [
       "array([[0.82727273, 0.20623377],\n",
       "       [0.41161616, 0.69854097],\n",
       "       [0.94318182, 0.79191919],\n",
       "       [0.04545455, 0.92842713],\n",
       "       [0.20454545, 0.2987013 ]])"
      ]
     },
     "execution_count": 64,
     "metadata": {},
     "output_type": "execute_result"
    }
   ],
   "source": [
    "km.cluster_centers_"
   ]
  },
  {
   "cell_type": "code",
   "execution_count": 65,
   "id": "ad970259",
   "metadata": {},
   "outputs": [
    {
     "data": {
      "text/plain": [
       "Text(0, 0.5, 'Income')"
      ]
     },
     "execution_count": 65,
     "metadata": {},
     "output_type": "execute_result"
    },
    {
     "data": {
      "image/png": "[encoded data removed]",
      "text/plain": [
       "<Figure size 640x480 with 1 Axes>"
      ]
     },
     "metadata": {},
     "output_type": "display_data"
    }
   ],
   "source": [
    "df1=data[data.cluster==0]\n",
    "df2=data[data.cluster==1]\n",
    "df3=data[data.cluster==2]\n",
    "df4=data[data['cluster']==3]\n",
    "df5=data[data['cluster']==4]\n",
    "plt.scatter(df1['Age'],df1['Income'],color='red',label='cluster 0')\n",
    "plt.scatter(df2['Age'],df2['Income'],color='green',label='cluster 1')\n",
    "plt.scatter(df3['Age'],df3['Income'],color='blue',label='cluster 2')\n",
    "plt.scatter(df4['Age'],df4['Income'],color='black',label='cluster 3')\n",
    "plt.scatter(df5['Age'],df5['Income'],color='yellow',label='cluster 4')\n",
    "plt.scatter(km.cluster_centers_[:,0],km.cluster_centers_[:,1],color='purple',marker='*')\n",
    "plt.xlabel('age')\n",
    "plt.ylabel('Income')"
   ]
  },
  {
   "cell_type": "code",
   "execution_count": null,
   "id": "6b2c9093",
   "metadata": {},
   "outputs": [],
   "source": []
  }
 ],
 "metadata": {
  "kernelspec": {
   "display_name": "Python 3 (ipykernel)",
   "language": "python",
   "name": "python3"
  },
  "language_info": {
   "codemirror_mode": {
    "name": "ipython",
    "version": 3
   },
   "file_extension": ".py",
   "mimetype": "text/x-python",
   "name": "python",
   "nbconvert_exporter": "python",
   "pygments_lexer": "ipython3",
   "version": "3.9.13"
  }
 },
 "nbformat": 4,
 "nbformat_minor": 5
}
